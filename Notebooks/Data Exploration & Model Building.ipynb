{
 "cells": [
  {
   "cell_type": "code",
   "execution_count": 69,
   "metadata": {},
   "outputs": [],
   "source": [
    "from sklearn.decomposition import PCA\n",
    "from sklearn.preprocessing import StandardScaler\n",
    "from sklearn.tree import DecisionTreeClassifier\n",
    "from sklearn.model_selection import train_test_split, KFold, cross_val_score\n",
    "from sklearn.metrics import accuracy_score, classification_report, confusion_matrix\n",
    "from sklearn.linear_model import LogisticRegression\n",
    "import numpy as np\n",
    "import pandas as pd\n",
    "import os\n",
    "import seaborn as sns\n",
    "import matplotlib.pyplot as plt\n",
    "import pickle"
   ]
  },
  {
   "cell_type": "code",
   "execution_count": 2,
   "metadata": {},
   "outputs": [],
   "source": [
    "path = r'D:\\Technocolab\\Final Project\\Data'"
   ]
  },
  {
   "cell_type": "code",
   "execution_count": 3,
   "metadata": {},
   "outputs": [],
   "source": [
    "df = pd.read_csv(os.path.join(path, 'cleaned.csv'),  index_col=None)"
   ]
  },
  {
   "cell_type": "code",
   "execution_count": 4,
   "metadata": {},
   "outputs": [
    {
     "data": {
      "text/html": [
       "<div>\n",
       "<style scoped>\n",
       "    .dataframe tbody tr th:only-of-type {\n",
       "        vertical-align: middle;\n",
       "    }\n",
       "\n",
       "    .dataframe tbody tr th {\n",
       "        vertical-align: top;\n",
       "    }\n",
       "\n",
       "    .dataframe thead th {\n",
       "        text-align: right;\n",
       "    }\n",
       "</style>\n",
       "<table border=\"1\" class=\"dataframe\">\n",
       "  <thead>\n",
       "    <tr style=\"text-align: right;\">\n",
       "      <th></th>\n",
       "      <th>track_id</th>\n",
       "      <th>genre_top</th>\n",
       "      <th>acousticness</th>\n",
       "      <th>danceability</th>\n",
       "      <th>energy</th>\n",
       "      <th>instrumentalness</th>\n",
       "      <th>liveness</th>\n",
       "      <th>speechiness</th>\n",
       "      <th>tempo</th>\n",
       "      <th>valence</th>\n",
       "    </tr>\n",
       "  </thead>\n",
       "  <tbody>\n",
       "    <tr>\n",
       "      <th>0</th>\n",
       "      <td>153</td>\n",
       "      <td>Rock</td>\n",
       "      <td>0.988306</td>\n",
       "      <td>0.255661</td>\n",
       "      <td>0.979774</td>\n",
       "      <td>0.973006</td>\n",
       "      <td>0.121342</td>\n",
       "      <td>0.051740</td>\n",
       "      <td>90.241</td>\n",
       "      <td>0.034018</td>\n",
       "    </tr>\n",
       "    <tr>\n",
       "      <th>1</th>\n",
       "      <td>154</td>\n",
       "      <td>Rock</td>\n",
       "      <td>0.970135</td>\n",
       "      <td>0.352946</td>\n",
       "      <td>0.023852</td>\n",
       "      <td>0.957113</td>\n",
       "      <td>0.113261</td>\n",
       "      <td>0.032177</td>\n",
       "      <td>53.758</td>\n",
       "      <td>0.035632</td>\n",
       "    </tr>\n",
       "    <tr>\n",
       "      <th>2</th>\n",
       "      <td>155</td>\n",
       "      <td>Rock</td>\n",
       "      <td>0.981657</td>\n",
       "      <td>0.142249</td>\n",
       "      <td>0.912122</td>\n",
       "      <td>0.967294</td>\n",
       "      <td>0.363510</td>\n",
       "      <td>0.087527</td>\n",
       "      <td>91.912</td>\n",
       "      <td>0.034325</td>\n",
       "    </tr>\n",
       "    <tr>\n",
       "      <th>3</th>\n",
       "      <td>169</td>\n",
       "      <td>Rock</td>\n",
       "      <td>0.989141</td>\n",
       "      <td>0.225978</td>\n",
       "      <td>0.722835</td>\n",
       "      <td>0.263076</td>\n",
       "      <td>0.092371</td>\n",
       "      <td>0.053406</td>\n",
       "      <td>94.322</td>\n",
       "      <td>0.028347</td>\n",
       "    </tr>\n",
       "    <tr>\n",
       "      <th>4</th>\n",
       "      <td>170</td>\n",
       "      <td>Rock</td>\n",
       "      <td>0.886660</td>\n",
       "      <td>0.298518</td>\n",
       "      <td>0.744333</td>\n",
       "      <td>0.920950</td>\n",
       "      <td>0.139587</td>\n",
       "      <td>0.088781</td>\n",
       "      <td>97.880</td>\n",
       "      <td>0.073548</td>\n",
       "    </tr>\n",
       "  </tbody>\n",
       "</table>\n",
       "</div>"
      ],
      "text/plain": [
       "   track_id genre_top  acousticness  danceability    energy  instrumentalness  \\\n",
       "0       153      Rock      0.988306      0.255661  0.979774          0.973006   \n",
       "1       154      Rock      0.970135      0.352946  0.023852          0.957113   \n",
       "2       155      Rock      0.981657      0.142249  0.912122          0.967294   \n",
       "3       169      Rock      0.989141      0.225978  0.722835          0.263076   \n",
       "4       170      Rock      0.886660      0.298518  0.744333          0.920950   \n",
       "\n",
       "   liveness  speechiness   tempo   valence  \n",
       "0  0.121342     0.051740  90.241  0.034018  \n",
       "1  0.113261     0.032177  53.758  0.035632  \n",
       "2  0.363510     0.087527  91.912  0.034325  \n",
       "3  0.092371     0.053406  94.322  0.028347  \n",
       "4  0.139587     0.088781  97.880  0.073548  "
      ]
     },
     "execution_count": 4,
     "metadata": {},
     "output_type": "execute_result"
    }
   ],
   "source": [
    "df.head()"
   ]
  },
  {
   "cell_type": "markdown",
   "metadata": {},
   "source": [
    "# Pairwise relationships between continuous variables"
   ]
  },
  {
   "cell_type": "code",
   "execution_count": 5,
   "metadata": {},
   "outputs": [
    {
     "data": {
      "text/html": [
       "<style  type=\"text/css\" >\n",
       "    #T_a044747a_ea8b_11ea_8adf_b0fc3639624arow0_col0 {\n",
       "            background-color:  #000000;\n",
       "            color:  #f1f1f1;\n",
       "        }    #T_a044747a_ea8b_11ea_8adf_b0fc3639624arow0_col1 {\n",
       "            background-color:  #ffffff;\n",
       "            color:  #000000;\n",
       "        }    #T_a044747a_ea8b_11ea_8adf_b0fc3639624arow0_col2 {\n",
       "            background-color:  #c1c1c1;\n",
       "            color:  #000000;\n",
       "        }    #T_a044747a_ea8b_11ea_8adf_b0fc3639624arow0_col3 {\n",
       "            background-color:  #ababab;\n",
       "            color:  #000000;\n",
       "        }    #T_a044747a_ea8b_11ea_8adf_b0fc3639624arow0_col4 {\n",
       "            background-color:  #eeeeee;\n",
       "            color:  #000000;\n",
       "        }    #T_a044747a_ea8b_11ea_8adf_b0fc3639624arow0_col5 {\n",
       "            background-color:  #dcdcdc;\n",
       "            color:  #000000;\n",
       "        }    #T_a044747a_ea8b_11ea_8adf_b0fc3639624arow0_col6 {\n",
       "            background-color:  #c0c0c0;\n",
       "            color:  #000000;\n",
       "        }    #T_a044747a_ea8b_11ea_8adf_b0fc3639624arow0_col7 {\n",
       "            background-color:  #d3d3d3;\n",
       "            color:  #000000;\n",
       "        }    #T_a044747a_ea8b_11ea_8adf_b0fc3639624arow0_col8 {\n",
       "            background-color:  #cfcfcf;\n",
       "            color:  #000000;\n",
       "        }    #T_a044747a_ea8b_11ea_8adf_b0fc3639624arow1_col0 {\n",
       "            background-color:  #ffffff;\n",
       "            color:  #000000;\n",
       "        }    #T_a044747a_ea8b_11ea_8adf_b0fc3639624arow1_col1 {\n",
       "            background-color:  #000000;\n",
       "            color:  #f1f1f1;\n",
       "        }    #T_a044747a_ea8b_11ea_8adf_b0fc3639624arow1_col2 {\n",
       "            background-color:  #d1d1d1;\n",
       "            color:  #000000;\n",
       "        }    #T_a044747a_ea8b_11ea_8adf_b0fc3639624arow1_col3 {\n",
       "            background-color:  #ffffff;\n",
       "            color:  #000000;\n",
       "        }    #T_a044747a_ea8b_11ea_8adf_b0fc3639624arow1_col4 {\n",
       "            background-color:  #969696;\n",
       "            color:  #000000;\n",
       "        }    #T_a044747a_ea8b_11ea_8adf_b0fc3639624arow1_col5 {\n",
       "            background-color:  #ebebeb;\n",
       "            color:  #000000;\n",
       "        }    #T_a044747a_ea8b_11ea_8adf_b0fc3639624arow1_col6 {\n",
       "            background-color:  #adadad;\n",
       "            color:  #000000;\n",
       "        }    #T_a044747a_ea8b_11ea_8adf_b0fc3639624arow1_col7 {\n",
       "            background-color:  #d3d3d3;\n",
       "            color:  #000000;\n",
       "        }    #T_a044747a_ea8b_11ea_8adf_b0fc3639624arow1_col8 {\n",
       "            background-color:  #d4d4d4;\n",
       "            color:  #000000;\n",
       "        }    #T_a044747a_ea8b_11ea_8adf_b0fc3639624arow2_col0 {\n",
       "            background-color:  #b1b1b1;\n",
       "            color:  #000000;\n",
       "        }    #T_a044747a_ea8b_11ea_8adf_b0fc3639624arow2_col1 {\n",
       "            background-color:  #bfbfbf;\n",
       "            color:  #000000;\n",
       "        }    #T_a044747a_ea8b_11ea_8adf_b0fc3639624arow2_col2 {\n",
       "            background-color:  #000000;\n",
       "            color:  #f1f1f1;\n",
       "        }    #T_a044747a_ea8b_11ea_8adf_b0fc3639624arow2_col3 {\n",
       "            background-color:  #f8f8f8;\n",
       "            color:  #000000;\n",
       "        }    #T_a044747a_ea8b_11ea_8adf_b0fc3639624arow2_col4 {\n",
       "            background-color:  #ebebeb;\n",
       "            color:  #000000;\n",
       "        }    #T_a044747a_ea8b_11ea_8adf_b0fc3639624arow2_col5 {\n",
       "            background-color:  #ffffff;\n",
       "            color:  #000000;\n",
       "        }    #T_a044747a_ea8b_11ea_8adf_b0fc3639624arow2_col6 {\n",
       "            background-color:  #878787;\n",
       "            color:  #000000;\n",
       "        }    #T_a044747a_ea8b_11ea_8adf_b0fc3639624arow2_col7 {\n",
       "            background-color:  #ffffff;\n",
       "            color:  #000000;\n",
       "        }    #T_a044747a_ea8b_11ea_8adf_b0fc3639624arow2_col8 {\n",
       "            background-color:  #6e6e6e;\n",
       "            color:  #000000;\n",
       "        }    #T_a044747a_ea8b_11ea_8adf_b0fc3639624arow3_col0 {\n",
       "            background-color:  #a0a0a0;\n",
       "            color:  #000000;\n",
       "        }    #T_a044747a_ea8b_11ea_8adf_b0fc3639624arow3_col1 {\n",
       "            background-color:  #efefef;\n",
       "            color:  #000000;\n",
       "        }    #T_a044747a_ea8b_11ea_8adf_b0fc3639624arow3_col2 {\n",
       "            background-color:  #fdfdfd;\n",
       "            color:  #000000;\n",
       "        }    #T_a044747a_ea8b_11ea_8adf_b0fc3639624arow3_col3 {\n",
       "            background-color:  #000000;\n",
       "            color:  #f1f1f1;\n",
       "        }    #T_a044747a_ea8b_11ea_8adf_b0fc3639624arow3_col4 {\n",
       "            background-color:  #b6b6b6;\n",
       "            color:  #000000;\n",
       "        }    #T_a044747a_ea8b_11ea_8adf_b0fc3639624arow3_col5 {\n",
       "            background-color:  #cdcdcd;\n",
       "            color:  #000000;\n",
       "        }    #T_a044747a_ea8b_11ea_8adf_b0fc3639624arow3_col6 {\n",
       "            background-color:  #cfcfcf;\n",
       "            color:  #000000;\n",
       "        }    #T_a044747a_ea8b_11ea_8adf_b0fc3639624arow3_col7 {\n",
       "            background-color:  #a5a5a5;\n",
       "            color:  #000000;\n",
       "        }    #T_a044747a_ea8b_11ea_8adf_b0fc3639624arow3_col8 {\n",
       "            background-color:  #c9c9c9;\n",
       "            color:  #000000;\n",
       "        }    #T_a044747a_ea8b_11ea_8adf_b0fc3639624arow4_col0 {\n",
       "            background-color:  #ededed;\n",
       "            color:  #000000;\n",
       "        }    #T_a044747a_ea8b_11ea_8adf_b0fc3639624arow4_col1 {\n",
       "            background-color:  #969696;\n",
       "            color:  #000000;\n",
       "        }    #T_a044747a_ea8b_11ea_8adf_b0fc3639624arow4_col2 {\n",
       "            background-color:  #ffffff;\n",
       "            color:  #000000;\n",
       "        }    #T_a044747a_ea8b_11ea_8adf_b0fc3639624arow4_col3 {\n",
       "            background-color:  #c2c2c2;\n",
       "            color:  #000000;\n",
       "        }    #T_a044747a_ea8b_11ea_8adf_b0fc3639624arow4_col4 {\n",
       "            background-color:  #000000;\n",
       "            color:  #f1f1f1;\n",
       "        }    #T_a044747a_ea8b_11ea_8adf_b0fc3639624arow4_col5 {\n",
       "            background-color:  #fcfcfc;\n",
       "            color:  #000000;\n",
       "        }    #T_a044747a_ea8b_11ea_8adf_b0fc3639624arow4_col6 {\n",
       "            background-color:  #ffffff;\n",
       "            color:  #000000;\n",
       "        }    #T_a044747a_ea8b_11ea_8adf_b0fc3639624arow4_col7 {\n",
       "            background-color:  #c9c9c9;\n",
       "            color:  #000000;\n",
       "        }    #T_a044747a_ea8b_11ea_8adf_b0fc3639624arow4_col8 {\n",
       "            background-color:  #ffffff;\n",
       "            color:  #000000;\n",
       "        }    #T_a044747a_ea8b_11ea_8adf_b0fc3639624arow5_col0 {\n",
       "            background-color:  #b1b1b1;\n",
       "            color:  #000000;\n",
       "        }    #T_a044747a_ea8b_11ea_8adf_b0fc3639624arow5_col1 {\n",
       "            background-color:  #bebebe;\n",
       "            color:  #000000;\n",
       "        }    #T_a044747a_ea8b_11ea_8adf_b0fc3639624arow5_col2 {\n",
       "            background-color:  #e1e1e1;\n",
       "            color:  #000000;\n",
       "        }    #T_a044747a_ea8b_11ea_8adf_b0fc3639624arow5_col3 {\n",
       "            background-color:  #b1b1b1;\n",
       "            color:  #000000;\n",
       "        }    #T_a044747a_ea8b_11ea_8adf_b0fc3639624arow5_col4 {\n",
       "            background-color:  #cccccc;\n",
       "            color:  #000000;\n",
       "        }    #T_a044747a_ea8b_11ea_8adf_b0fc3639624arow5_col5 {\n",
       "            background-color:  #000000;\n",
       "            color:  #f1f1f1;\n",
       "        }    #T_a044747a_ea8b_11ea_8adf_b0fc3639624arow5_col6 {\n",
       "            background-color:  #b3b3b3;\n",
       "            color:  #000000;\n",
       "        }    #T_a044747a_ea8b_11ea_8adf_b0fc3639624arow5_col7 {\n",
       "            background-color:  #cdcdcd;\n",
       "            color:  #000000;\n",
       "        }    #T_a044747a_ea8b_11ea_8adf_b0fc3639624arow5_col8 {\n",
       "            background-color:  #dbdbdb;\n",
       "            color:  #000000;\n",
       "        }    #T_a044747a_ea8b_11ea_8adf_b0fc3639624arow6_col0 {\n",
       "            background-color:  #bfbfbf;\n",
       "            color:  #000000;\n",
       "        }    #T_a044747a_ea8b_11ea_8adf_b0fc3639624arow6_col1 {\n",
       "            background-color:  #adadad;\n",
       "            color:  #000000;\n",
       "        }    #T_a044747a_ea8b_11ea_8adf_b0fc3639624arow6_col2 {\n",
       "            background-color:  #939393;\n",
       "            color:  #000000;\n",
       "        }    #T_a044747a_ea8b_11ea_8adf_b0fc3639624arow6_col3 {\n",
       "            background-color:  #dddddd;\n",
       "            color:  #000000;\n",
       "        }    #T_a044747a_ea8b_11ea_8adf_b0fc3639624arow6_col4 {\n",
       "            background-color:  #ffffff;\n",
       "            color:  #000000;\n",
       "        }    #T_a044747a_ea8b_11ea_8adf_b0fc3639624arow6_col5 {\n",
       "            background-color:  #dddddd;\n",
       "            color:  #000000;\n",
       "        }    #T_a044747a_ea8b_11ea_8adf_b0fc3639624arow6_col6 {\n",
       "            background-color:  #000000;\n",
       "            color:  #f1f1f1;\n",
       "        }    #T_a044747a_ea8b_11ea_8adf_b0fc3639624arow6_col7 {\n",
       "            background-color:  #cccccc;\n",
       "            color:  #000000;\n",
       "        }    #T_a044747a_ea8b_11ea_8adf_b0fc3639624arow6_col8 {\n",
       "            background-color:  #b2b2b2;\n",
       "            color:  #000000;\n",
       "        }    #T_a044747a_ea8b_11ea_8adf_b0fc3639624arow7_col0 {\n",
       "            background-color:  #bfbfbf;\n",
       "            color:  #000000;\n",
       "        }    #T_a044747a_ea8b_11ea_8adf_b0fc3639624arow7_col1 {\n",
       "            background-color:  #bfbfbf;\n",
       "            color:  #000000;\n",
       "        }    #T_a044747a_ea8b_11ea_8adf_b0fc3639624arow7_col2 {\n",
       "            background-color:  #fdfdfd;\n",
       "            color:  #000000;\n",
       "        }    #T_a044747a_ea8b_11ea_8adf_b0fc3639624arow7_col3 {\n",
       "            background-color:  #a0a0a0;\n",
       "            color:  #000000;\n",
       "        }    #T_a044747a_ea8b_11ea_8adf_b0fc3639624arow7_col4 {\n",
       "            background-color:  #b7b7b7;\n",
       "            color:  #000000;\n",
       "        }    #T_a044747a_ea8b_11ea_8adf_b0fc3639624arow7_col5 {\n",
       "            background-color:  #e6e6e6;\n",
       "            color:  #000000;\n",
       "        }    #T_a044747a_ea8b_11ea_8adf_b0fc3639624arow7_col6 {\n",
       "            background-color:  #b9b9b9;\n",
       "            color:  #000000;\n",
       "        }    #T_a044747a_ea8b_11ea_8adf_b0fc3639624arow7_col7 {\n",
       "            background-color:  #000000;\n",
       "            color:  #f1f1f1;\n",
       "        }    #T_a044747a_ea8b_11ea_8adf_b0fc3639624arow7_col8 {\n",
       "            background-color:  #c6c6c6;\n",
       "            color:  #000000;\n",
       "        }    #T_a044747a_ea8b_11ea_8adf_b0fc3639624arow8_col0 {\n",
       "            background-color:  #b8b8b8;\n",
       "            color:  #000000;\n",
       "        }    #T_a044747a_ea8b_11ea_8adf_b0fc3639624arow8_col1 {\n",
       "            background-color:  #bdbdbd;\n",
       "            color:  #000000;\n",
       "        }    #T_a044747a_ea8b_11ea_8adf_b0fc3639624arow8_col2 {\n",
       "            background-color:  #6b6b6b;\n",
       "            color:  #000000;\n",
       "        }    #T_a044747a_ea8b_11ea_8adf_b0fc3639624arow8_col3 {\n",
       "            background-color:  #c0c0c0;\n",
       "            color:  #000000;\n",
       "        }    #T_a044747a_ea8b_11ea_8adf_b0fc3639624arow8_col4 {\n",
       "            background-color:  #e4e4e4;\n",
       "            color:  #000000;\n",
       "        }    #T_a044747a_ea8b_11ea_8adf_b0fc3639624arow8_col5 {\n",
       "            background-color:  #f1f1f1;\n",
       "            color:  #000000;\n",
       "        }    #T_a044747a_ea8b_11ea_8adf_b0fc3639624arow8_col6 {\n",
       "            background-color:  #9f9f9f;\n",
       "            color:  #000000;\n",
       "        }    #T_a044747a_ea8b_11ea_8adf_b0fc3639624arow8_col7 {\n",
       "            background-color:  #c3c3c3;\n",
       "            color:  #000000;\n",
       "        }    #T_a044747a_ea8b_11ea_8adf_b0fc3639624arow8_col8 {\n",
       "            background-color:  #000000;\n",
       "            color:  #f1f1f1;\n",
       "        }</style><table id=\"T_a044747a_ea8b_11ea_8adf_b0fc3639624a\" ><thead>    <tr>        <th class=\"blank level0\" ></th>        <th class=\"col_heading level0 col0\" >track_id</th>        <th class=\"col_heading level0 col1\" >acousticness</th>        <th class=\"col_heading level0 col2\" >danceability</th>        <th class=\"col_heading level0 col3\" >energy</th>        <th class=\"col_heading level0 col4\" >instrumentalness</th>        <th class=\"col_heading level0 col5\" >liveness</th>        <th class=\"col_heading level0 col6\" >speechiness</th>        <th class=\"col_heading level0 col7\" >tempo</th>        <th class=\"col_heading level0 col8\" >valence</th>    </tr></thead><tbody>\n",
       "                <tr>\n",
       "                        <th id=\"T_a044747a_ea8b_11ea_8adf_b0fc3639624alevel0_row0\" class=\"row_heading level0 row0\" >track_id</th>\n",
       "                        <td id=\"T_a044747a_ea8b_11ea_8adf_b0fc3639624arow0_col0\" class=\"data row0 col0\" >1.000000</td>\n",
       "                        <td id=\"T_a044747a_ea8b_11ea_8adf_b0fc3639624arow0_col1\" class=\"data row0 col1\" >-0.372282</td>\n",
       "                        <td id=\"T_a044747a_ea8b_11ea_8adf_b0fc3639624arow0_col2\" class=\"data row0 col2\" >0.049454</td>\n",
       "                        <td id=\"T_a044747a_ea8b_11ea_8adf_b0fc3639624arow0_col3\" class=\"data row0 col3\" >0.140703</td>\n",
       "                        <td id=\"T_a044747a_ea8b_11ea_8adf_b0fc3639624arow0_col4\" class=\"data row0 col4\" >-0.275623</td>\n",
       "                        <td id=\"T_a044747a_ea8b_11ea_8adf_b0fc3639624arow0_col5\" class=\"data row0 col5\" >0.048231</td>\n",
       "                        <td id=\"T_a044747a_ea8b_11ea_8adf_b0fc3639624arow0_col6\" class=\"data row0 col6\" >-0.026995</td>\n",
       "                        <td id=\"T_a044747a_ea8b_11ea_8adf_b0fc3639624arow0_col7\" class=\"data row0 col7\" >-0.025392</td>\n",
       "                        <td id=\"T_a044747a_ea8b_11ea_8adf_b0fc3639624arow0_col8\" class=\"data row0 col8\" >0.010070</td>\n",
       "            </tr>\n",
       "            <tr>\n",
       "                        <th id=\"T_a044747a_ea8b_11ea_8adf_b0fc3639624alevel0_row1\" class=\"row_heading level0 row1\" >acousticness</th>\n",
       "                        <td id=\"T_a044747a_ea8b_11ea_8adf_b0fc3639624arow1_col0\" class=\"data row1 col0\" >-0.372282</td>\n",
       "                        <td id=\"T_a044747a_ea8b_11ea_8adf_b0fc3639624arow1_col1\" class=\"data row1 col1\" >1.000000</td>\n",
       "                        <td id=\"T_a044747a_ea8b_11ea_8adf_b0fc3639624arow1_col2\" class=\"data row1 col2\" >-0.028954</td>\n",
       "                        <td id=\"T_a044747a_ea8b_11ea_8adf_b0fc3639624arow1_col3\" class=\"data row1 col3\" >-0.281619</td>\n",
       "                        <td id=\"T_a044747a_ea8b_11ea_8adf_b0fc3639624arow1_col4\" class=\"data row1 col4\" >0.194780</td>\n",
       "                        <td id=\"T_a044747a_ea8b_11ea_8adf_b0fc3639624arow1_col5\" class=\"data row1 col5\" >-0.019991</td>\n",
       "                        <td id=\"T_a044747a_ea8b_11ea_8adf_b0fc3639624arow1_col6\" class=\"data row1 col6\" >0.072204</td>\n",
       "                        <td id=\"T_a044747a_ea8b_11ea_8adf_b0fc3639624arow1_col7\" class=\"data row1 col7\" >-0.026310</td>\n",
       "                        <td id=\"T_a044747a_ea8b_11ea_8adf_b0fc3639624arow1_col8\" class=\"data row1 col8\" >-0.013841</td>\n",
       "            </tr>\n",
       "            <tr>\n",
       "                        <th id=\"T_a044747a_ea8b_11ea_8adf_b0fc3639624alevel0_row2\" class=\"row_heading level0 row2\" >danceability</th>\n",
       "                        <td id=\"T_a044747a_ea8b_11ea_8adf_b0fc3639624arow2_col0\" class=\"data row2 col0\" >0.049454</td>\n",
       "                        <td id=\"T_a044747a_ea8b_11ea_8adf_b0fc3639624arow2_col1\" class=\"data row2 col1\" >-0.028954</td>\n",
       "                        <td id=\"T_a044747a_ea8b_11ea_8adf_b0fc3639624arow2_col2\" class=\"data row2 col2\" >1.000000</td>\n",
       "                        <td id=\"T_a044747a_ea8b_11ea_8adf_b0fc3639624arow2_col3\" class=\"data row2 col3\" >-0.242032</td>\n",
       "                        <td id=\"T_a044747a_ea8b_11ea_8adf_b0fc3639624arow2_col4\" class=\"data row2 col4\" >-0.255217</td>\n",
       "                        <td id=\"T_a044747a_ea8b_11ea_8adf_b0fc3639624arow2_col5\" class=\"data row2 col5\" >-0.106584</td>\n",
       "                        <td id=\"T_a044747a_ea8b_11ea_8adf_b0fc3639624arow2_col6\" class=\"data row2 col6\" >0.276206</td>\n",
       "                        <td id=\"T_a044747a_ea8b_11ea_8adf_b0fc3639624arow2_col7\" class=\"data row2 col7\" >-0.242089</td>\n",
       "                        <td id=\"T_a044747a_ea8b_11ea_8adf_b0fc3639624arow2_col8\" class=\"data row2 col8\" >0.473165</td>\n",
       "            </tr>\n",
       "            <tr>\n",
       "                        <th id=\"T_a044747a_ea8b_11ea_8adf_b0fc3639624alevel0_row3\" class=\"row_heading level0 row3\" >energy</th>\n",
       "                        <td id=\"T_a044747a_ea8b_11ea_8adf_b0fc3639624arow3_col0\" class=\"data row3 col0\" >0.140703</td>\n",
       "                        <td id=\"T_a044747a_ea8b_11ea_8adf_b0fc3639624arow3_col1\" class=\"data row3 col1\" >-0.281619</td>\n",
       "                        <td id=\"T_a044747a_ea8b_11ea_8adf_b0fc3639624arow3_col2\" class=\"data row3 col2\" >-0.242032</td>\n",
       "                        <td id=\"T_a044747a_ea8b_11ea_8adf_b0fc3639624arow3_col3\" class=\"data row3 col3\" >1.000000</td>\n",
       "                        <td id=\"T_a044747a_ea8b_11ea_8adf_b0fc3639624arow3_col4\" class=\"data row3 col4\" >0.028238</td>\n",
       "                        <td id=\"T_a044747a_ea8b_11ea_8adf_b0fc3639624arow3_col5\" class=\"data row3 col5\" >0.113331</td>\n",
       "                        <td id=\"T_a044747a_ea8b_11ea_8adf_b0fc3639624arow3_col6\" class=\"data row3 col6\" >-0.109983</td>\n",
       "                        <td id=\"T_a044747a_ea8b_11ea_8adf_b0fc3639624arow3_col7\" class=\"data row3 col7\" >0.195227</td>\n",
       "                        <td id=\"T_a044747a_ea8b_11ea_8adf_b0fc3639624arow3_col8\" class=\"data row3 col8\" >0.038603</td>\n",
       "            </tr>\n",
       "            <tr>\n",
       "                        <th id=\"T_a044747a_ea8b_11ea_8adf_b0fc3639624alevel0_row4\" class=\"row_heading level0 row4\" >instrumentalness</th>\n",
       "                        <td id=\"T_a044747a_ea8b_11ea_8adf_b0fc3639624arow4_col0\" class=\"data row4 col0\" >-0.275623</td>\n",
       "                        <td id=\"T_a044747a_ea8b_11ea_8adf_b0fc3639624arow4_col1\" class=\"data row4 col1\" >0.194780</td>\n",
       "                        <td id=\"T_a044747a_ea8b_11ea_8adf_b0fc3639624arow4_col2\" class=\"data row4 col2\" >-0.255217</td>\n",
       "                        <td id=\"T_a044747a_ea8b_11ea_8adf_b0fc3639624arow4_col3\" class=\"data row4 col3\" >0.028238</td>\n",
       "                        <td id=\"T_a044747a_ea8b_11ea_8adf_b0fc3639624arow4_col4\" class=\"data row4 col4\" >1.000000</td>\n",
       "                        <td id=\"T_a044747a_ea8b_11ea_8adf_b0fc3639624arow4_col5\" class=\"data row4 col5\" >-0.091022</td>\n",
       "                        <td id=\"T_a044747a_ea8b_11ea_8adf_b0fc3639624arow4_col6\" class=\"data row4 col6\" >-0.366762</td>\n",
       "                        <td id=\"T_a044747a_ea8b_11ea_8adf_b0fc3639624arow4_col7\" class=\"data row4 col7\" >0.022215</td>\n",
       "                        <td id=\"T_a044747a_ea8b_11ea_8adf_b0fc3639624arow4_col8\" class=\"data row4 col8\" >-0.219967</td>\n",
       "            </tr>\n",
       "            <tr>\n",
       "                        <th id=\"T_a044747a_ea8b_11ea_8adf_b0fc3639624alevel0_row5\" class=\"row_heading level0 row5\" >liveness</th>\n",
       "                        <td id=\"T_a044747a_ea8b_11ea_8adf_b0fc3639624arow5_col0\" class=\"data row5 col0\" >0.048231</td>\n",
       "                        <td id=\"T_a044747a_ea8b_11ea_8adf_b0fc3639624arow5_col1\" class=\"data row5 col1\" >-0.019991</td>\n",
       "                        <td id=\"T_a044747a_ea8b_11ea_8adf_b0fc3639624arow5_col2\" class=\"data row5 col2\" >-0.106584</td>\n",
       "                        <td id=\"T_a044747a_ea8b_11ea_8adf_b0fc3639624arow5_col3\" class=\"data row5 col3\" >0.113331</td>\n",
       "                        <td id=\"T_a044747a_ea8b_11ea_8adf_b0fc3639624arow5_col4\" class=\"data row5 col4\" >-0.091022</td>\n",
       "                        <td id=\"T_a044747a_ea8b_11ea_8adf_b0fc3639624arow5_col5\" class=\"data row5 col5\" >1.000000</td>\n",
       "                        <td id=\"T_a044747a_ea8b_11ea_8adf_b0fc3639624arow5_col6\" class=\"data row5 col6\" >0.041173</td>\n",
       "                        <td id=\"T_a044747a_ea8b_11ea_8adf_b0fc3639624arow5_col7\" class=\"data row5 col7\" >0.002732</td>\n",
       "                        <td id=\"T_a044747a_ea8b_11ea_8adf_b0fc3639624arow5_col8\" class=\"data row5 col8\" >-0.045093</td>\n",
       "            </tr>\n",
       "            <tr>\n",
       "                        <th id=\"T_a044747a_ea8b_11ea_8adf_b0fc3639624alevel0_row6\" class=\"row_heading level0 row6\" >speechiness</th>\n",
       "                        <td id=\"T_a044747a_ea8b_11ea_8adf_b0fc3639624arow6_col0\" class=\"data row6 col0\" >-0.026995</td>\n",
       "                        <td id=\"T_a044747a_ea8b_11ea_8adf_b0fc3639624arow6_col1\" class=\"data row6 col1\" >0.072204</td>\n",
       "                        <td id=\"T_a044747a_ea8b_11ea_8adf_b0fc3639624arow6_col2\" class=\"data row6 col2\" >0.276206</td>\n",
       "                        <td id=\"T_a044747a_ea8b_11ea_8adf_b0fc3639624arow6_col3\" class=\"data row6 col3\" >-0.109983</td>\n",
       "                        <td id=\"T_a044747a_ea8b_11ea_8adf_b0fc3639624arow6_col4\" class=\"data row6 col4\" >-0.366762</td>\n",
       "                        <td id=\"T_a044747a_ea8b_11ea_8adf_b0fc3639624arow6_col5\" class=\"data row6 col5\" >0.041173</td>\n",
       "                        <td id=\"T_a044747a_ea8b_11ea_8adf_b0fc3639624arow6_col6\" class=\"data row6 col6\" >1.000000</td>\n",
       "                        <td id=\"T_a044747a_ea8b_11ea_8adf_b0fc3639624arow6_col7\" class=\"data row6 col7\" >0.008241</td>\n",
       "                        <td id=\"T_a044747a_ea8b_11ea_8adf_b0fc3639624arow6_col8\" class=\"data row6 col8\" >0.149894</td>\n",
       "            </tr>\n",
       "            <tr>\n",
       "                        <th id=\"T_a044747a_ea8b_11ea_8adf_b0fc3639624alevel0_row7\" class=\"row_heading level0 row7\" >tempo</th>\n",
       "                        <td id=\"T_a044747a_ea8b_11ea_8adf_b0fc3639624arow7_col0\" class=\"data row7 col0\" >-0.025392</td>\n",
       "                        <td id=\"T_a044747a_ea8b_11ea_8adf_b0fc3639624arow7_col1\" class=\"data row7 col1\" >-0.026310</td>\n",
       "                        <td id=\"T_a044747a_ea8b_11ea_8adf_b0fc3639624arow7_col2\" class=\"data row7 col2\" >-0.242089</td>\n",
       "                        <td id=\"T_a044747a_ea8b_11ea_8adf_b0fc3639624arow7_col3\" class=\"data row7 col3\" >0.195227</td>\n",
       "                        <td id=\"T_a044747a_ea8b_11ea_8adf_b0fc3639624arow7_col4\" class=\"data row7 col4\" >0.022215</td>\n",
       "                        <td id=\"T_a044747a_ea8b_11ea_8adf_b0fc3639624arow7_col5\" class=\"data row7 col5\" >0.002732</td>\n",
       "                        <td id=\"T_a044747a_ea8b_11ea_8adf_b0fc3639624arow7_col6\" class=\"data row7 col6\" >0.008241</td>\n",
       "                        <td id=\"T_a044747a_ea8b_11ea_8adf_b0fc3639624arow7_col7\" class=\"data row7 col7\" >1.000000</td>\n",
       "                        <td id=\"T_a044747a_ea8b_11ea_8adf_b0fc3639624arow7_col8\" class=\"data row7 col8\" >0.052221</td>\n",
       "            </tr>\n",
       "            <tr>\n",
       "                        <th id=\"T_a044747a_ea8b_11ea_8adf_b0fc3639624alevel0_row8\" class=\"row_heading level0 row8\" >valence</th>\n",
       "                        <td id=\"T_a044747a_ea8b_11ea_8adf_b0fc3639624arow8_col0\" class=\"data row8 col0\" >0.010070</td>\n",
       "                        <td id=\"T_a044747a_ea8b_11ea_8adf_b0fc3639624arow8_col1\" class=\"data row8 col1\" >-0.013841</td>\n",
       "                        <td id=\"T_a044747a_ea8b_11ea_8adf_b0fc3639624arow8_col2\" class=\"data row8 col2\" >0.473165</td>\n",
       "                        <td id=\"T_a044747a_ea8b_11ea_8adf_b0fc3639624arow8_col3\" class=\"data row8 col3\" >0.038603</td>\n",
       "                        <td id=\"T_a044747a_ea8b_11ea_8adf_b0fc3639624arow8_col4\" class=\"data row8 col4\" >-0.219967</td>\n",
       "                        <td id=\"T_a044747a_ea8b_11ea_8adf_b0fc3639624arow8_col5\" class=\"data row8 col5\" >-0.045093</td>\n",
       "                        <td id=\"T_a044747a_ea8b_11ea_8adf_b0fc3639624arow8_col6\" class=\"data row8 col6\" >0.149894</td>\n",
       "                        <td id=\"T_a044747a_ea8b_11ea_8adf_b0fc3639624arow8_col7\" class=\"data row8 col7\" >0.052221</td>\n",
       "                        <td id=\"T_a044747a_ea8b_11ea_8adf_b0fc3639624arow8_col8\" class=\"data row8 col8\" >1.000000</td>\n",
       "            </tr>\n",
       "    </tbody></table>"
      ],
      "text/plain": [
       "<pandas.io.formats.style.Styler at 0x215a1789dc8>"
      ]
     },
     "execution_count": 5,
     "metadata": {},
     "output_type": "execute_result"
    }
   ],
   "source": [
    "corr_matrix = df.corr()\n",
    "corr_matrix.style.background_gradient(cmap='binary')"
   ]
  },
  {
   "cell_type": "markdown",
   "metadata": {},
   "source": [
    "### Dancebility and Valence are correlated maximum in this dataset"
   ]
  },
  {
   "cell_type": "code",
   "execution_count": 6,
   "metadata": {},
   "outputs": [],
   "source": [
    "X = df.drop(['track_id', 'genre_top'], axis=1)\n",
    "y = df.genre_top"
   ]
  },
  {
   "cell_type": "markdown",
   "metadata": {},
   "source": [
    "# Normalizing the feature data"
   ]
  },
  {
   "cell_type": "code",
   "execution_count": 7,
   "metadata": {},
   "outputs": [],
   "source": [
    "scaler = StandardScaler()\n",
    "X_scaled = scaler.fit_transform(X)"
   ]
  },
  {
   "cell_type": "markdown",
   "metadata": {},
   "source": [
    "# Principal Component Analysis on our scaled data\n"
   ]
  },
  {
   "cell_type": "code",
   "execution_count": 8,
   "metadata": {},
   "outputs": [],
   "source": [
    "pca = PCA()\n",
    "pca.fit(X_scaled)\n",
    "variances = pca.explained_variance_ratio_"
   ]
  },
  {
   "cell_type": "code",
   "execution_count": 9,
   "metadata": {},
   "outputs": [
    {
     "data": {
      "text/plain": [
       "array([0.24297674, 0.18044316, 0.13650309, 0.12994089, 0.11056248,\n",
       "       0.08302245, 0.06923783, 0.04731336])"
      ]
     },
     "execution_count": 9,
     "metadata": {},
     "output_type": "execute_result"
    }
   ],
   "source": [
    "variances"
   ]
  },
  {
   "cell_type": "code",
   "execution_count": 10,
   "metadata": {},
   "outputs": [
    {
     "data": {
      "text/plain": [
       "<matplotlib.axes._subplots.AxesSubplot at 0x215a1bfc448>"
      ]
     },
     "execution_count": 10,
     "metadata": {},
     "output_type": "execute_result"
    },
    {
     "data": {
      "image/png": "[encoded data removed]",
      "text/plain": [
       "<Figure size 432x288 with 1 Axes>"
      ]
     },
     "metadata": {
      "needs_background": "light"
     },
     "output_type": "display_data"
    }
   ],
   "source": [
    "sns.barplot(y=variances, x=list(range(pca.n_components_)))"
   ]
  },
  {
   "cell_type": "markdown",
   "metadata": {},
   "source": [
    "# Further visualization of PCA"
   ]
  },
  {
   "cell_type": "code",
   "execution_count": 11,
   "metadata": {},
   "outputs": [],
   "source": [
    "cummilative = np.cumsum(variances)"
   ]
  },
  {
   "cell_type": "code",
   "execution_count": 12,
   "metadata": {},
   "outputs": [
    {
     "data": {
      "text/plain": [
       "<matplotlib.lines.Line2D at 0x215a236f908>"
      ]
     },
     "execution_count": 12,
     "metadata": {},
     "output_type": "execute_result"
    },
    {
     "data": {
      "image/png": "[encoded data removed]",
      "text/plain": [
       "<Figure size 432x288 with 1 Axes>"
      ]
     },
     "metadata": {
      "needs_background": "light"
     },
     "output_type": "display_data"
    }
   ],
   "source": [
    "ax = sns.lineplot(y=cummilative, x=list(range(pca.n_components_)));\n",
    "ax.axhline(y=0.85, linestyle='--')"
   ]
  },
  {
   "cell_type": "code",
   "execution_count": 13,
   "metadata": {},
   "outputs": [],
   "source": [
    "choosen_n = 6\n",
    "pca = PCA(choosen_n, random_state=42)\n",
    "pca.fit(X_scaled)\n",
    "pca_projected = pca.transform(X_scaled)"
   ]
  },
  {
   "cell_type": "code",
   "execution_count": 14,
   "metadata": {},
   "outputs": [
    {
     "data": {
      "text/plain": [
       "(4802, 6)"
      ]
     },
     "execution_count": 14,
     "metadata": {},
     "output_type": "execute_result"
    }
   ],
   "source": [
    "pca_projected.shape"
   ]
  },
  {
   "cell_type": "code",
   "execution_count": 15,
   "metadata": {},
   "outputs": [
    {
     "data": {
      "text/plain": [
       "Rock       3892\n",
       "Hip-Hop     910\n",
       "Name: genre_top, dtype: int64"
      ]
     },
     "execution_count": 15,
     "metadata": {},
     "output_type": "execute_result"
    }
   ],
   "source": [
    "y.value_counts()"
   ]
  },
  {
   "cell_type": "markdown",
   "metadata": {},
   "source": [
    "### Imbalanced dataset"
   ]
  },
  {
   "cell_type": "markdown",
   "metadata": {},
   "source": [
    "# Train a decision tree to classify genre\n"
   ]
  },
  {
   "cell_type": "code",
   "execution_count": 16,
   "metadata": {},
   "outputs": [],
   "source": [
    "X_train, X_test, y_train, y_test = train_test_split(pca_projected, y, stratify=y)"
   ]
  },
  {
   "cell_type": "code",
   "execution_count": 17,
   "metadata": {},
   "outputs": [],
   "source": [
    "DecisionTreeClassifier?"
   ]
  },
  {
   "cell_type": "code",
   "execution_count": 18,
   "metadata": {},
   "outputs": [],
   "source": [
    "tree = DecisionTreeClassifier(random_state=42)"
   ]
  },
  {
   "cell_type": "code",
   "execution_count": 19,
   "metadata": {},
   "outputs": [
    {
     "data": {
      "text/plain": [
       "DecisionTreeClassifier(random_state=42)"
      ]
     },
     "execution_count": 19,
     "metadata": {},
     "output_type": "execute_result"
    }
   ],
   "source": [
    "tree.fit(X_train, y_train)"
   ]
  },
  {
   "cell_type": "code",
   "execution_count": 20,
   "metadata": {},
   "outputs": [],
   "source": [
    "y_pred = tree.predict(X_test)"
   ]
  },
  {
   "cell_type": "code",
   "execution_count": 21,
   "metadata": {},
   "outputs": [
    {
     "data": {
      "text/plain": [
       "0.855120732722731"
      ]
     },
     "execution_count": 21,
     "metadata": {},
     "output_type": "execute_result"
    }
   ],
   "source": [
    "accuracy_score(y_true=y_test, y_pred=y_pred)"
   ]
  },
  {
   "cell_type": "code",
   "execution_count": 22,
   "metadata": {},
   "outputs": [
    {
     "data": {
      "text/plain": [
       "array([[150,  78],\n",
       "       [ 96, 877]], dtype=int64)"
      ]
     },
     "execution_count": 22,
     "metadata": {},
     "output_type": "execute_result"
    }
   ],
   "source": [
    "confusion_matrix(y_true=y_test, y_pred=y_pred)"
   ]
  },
  {
   "cell_type": "code",
   "execution_count": 23,
   "metadata": {},
   "outputs": [
    {
     "name": "stdout",
     "output_type": "stream",
     "text": [
      "              precision    recall  f1-score   support\n",
      "\n",
      "     Hip-Hop       0.61      0.66      0.63       228\n",
      "        Rock       0.92      0.90      0.91       973\n",
      "\n",
      "    accuracy                           0.86      1201\n",
      "   macro avg       0.76      0.78      0.77      1201\n",
      "weighted avg       0.86      0.86      0.86      1201\n",
      "\n"
     ]
    }
   ],
   "source": [
    "print(classification_report(y_true=y_test, y_pred=y_pred))"
   ]
  },
  {
   "cell_type": "markdown",
   "metadata": {},
   "source": [
    "# Compare our decision tree to a logistic regression\n"
   ]
  },
  {
   "cell_type": "code",
   "execution_count": 24,
   "metadata": {},
   "outputs": [],
   "source": [
    "log_reg = LogisticRegression(random_state=42)"
   ]
  },
  {
   "cell_type": "code",
   "execution_count": 25,
   "metadata": {},
   "outputs": [
    {
     "data": {
      "text/plain": [
       "LogisticRegression(random_state=42)"
      ]
     },
     "execution_count": 25,
     "metadata": {},
     "output_type": "execute_result"
    }
   ],
   "source": [
    "log_reg.fit(X_train, y_train)"
   ]
  },
  {
   "cell_type": "code",
   "execution_count": 26,
   "metadata": {},
   "outputs": [],
   "source": [
    "y_pred_reg = log_reg.predict(X_test)"
   ]
  },
  {
   "cell_type": "code",
   "execution_count": 27,
   "metadata": {},
   "outputs": [
    {
     "data": {
      "text/plain": [
       "0.8884263114071607"
      ]
     },
     "execution_count": 27,
     "metadata": {},
     "output_type": "execute_result"
    }
   ],
   "source": [
    "accuracy_score(y_true=y_test, y_pred=y_pred_reg)"
   ]
  },
  {
   "cell_type": "code",
   "execution_count": 28,
   "metadata": {},
   "outputs": [
    {
     "data": {
      "text/plain": [
       "array([[124, 104],\n",
       "       [ 30, 943]], dtype=int64)"
      ]
     },
     "execution_count": 28,
     "metadata": {},
     "output_type": "execute_result"
    }
   ],
   "source": [
    "confusion_matrix(y_true=y_test, y_pred=y_pred_reg)"
   ]
  },
  {
   "cell_type": "code",
   "execution_count": 29,
   "metadata": {},
   "outputs": [
    {
     "name": "stdout",
     "output_type": "stream",
     "text": [
      "              precision    recall  f1-score   support\n",
      "\n",
      "     Hip-Hop       0.81      0.54      0.65       228\n",
      "        Rock       0.90      0.97      0.93       973\n",
      "\n",
      "    accuracy                           0.89      1201\n",
      "   macro avg       0.85      0.76      0.79      1201\n",
      "weighted avg       0.88      0.89      0.88      1201\n",
      "\n"
     ]
    }
   ],
   "source": [
    "print(classification_report(y_true=y_test, y_pred=y_pred_reg))"
   ]
  },
  {
   "cell_type": "markdown",
   "metadata": {},
   "source": [
    "# Balance our data for greater performance"
   ]
  },
  {
   "cell_type": "code",
   "execution_count": 30,
   "metadata": {},
   "outputs": [],
   "source": [
    "rock = df[df.genre_top=='Rock']"
   ]
  },
  {
   "cell_type": "code",
   "execution_count": 31,
   "metadata": {},
   "outputs": [],
   "source": [
    "hop = df[df.genre_top=='Hip-Hop']"
   ]
  },
  {
   "cell_type": "code",
   "execution_count": 32,
   "metadata": {},
   "outputs": [
    {
     "data": {
      "text/html": [
       "<div>\n",
       "<style scoped>\n",
       "    .dataframe tbody tr th:only-of-type {\n",
       "        vertical-align: middle;\n",
       "    }\n",
       "\n",
       "    .dataframe tbody tr th {\n",
       "        vertical-align: top;\n",
       "    }\n",
       "\n",
       "    .dataframe thead th {\n",
       "        text-align: right;\n",
       "    }\n",
       "</style>\n",
       "<table border=\"1\" class=\"dataframe\">\n",
       "  <thead>\n",
       "    <tr style=\"text-align: right;\">\n",
       "      <th></th>\n",
       "      <th>track_id</th>\n",
       "      <th>genre_top</th>\n",
       "      <th>acousticness</th>\n",
       "      <th>danceability</th>\n",
       "      <th>energy</th>\n",
       "      <th>instrumentalness</th>\n",
       "      <th>liveness</th>\n",
       "      <th>speechiness</th>\n",
       "      <th>tempo</th>\n",
       "      <th>valence</th>\n",
       "    </tr>\n",
       "  </thead>\n",
       "  <tbody>\n",
       "    <tr>\n",
       "      <th>4034</th>\n",
       "      <td>11817</td>\n",
       "      <td>Hip-Hop</td>\n",
       "      <td>0.799497</td>\n",
       "      <td>0.707462</td>\n",
       "      <td>0.723358</td>\n",
       "      <td>2.764246e-03</td>\n",
       "      <td>0.120899</td>\n",
       "      <td>0.269872</td>\n",
       "      <td>67.308</td>\n",
       "      <td>0.412247</td>\n",
       "    </tr>\n",
       "    <tr>\n",
       "      <th>4775</th>\n",
       "      <td>100477</td>\n",
       "      <td>Hip-Hop</td>\n",
       "      <td>0.297228</td>\n",
       "      <td>0.851686</td>\n",
       "      <td>0.838881</td>\n",
       "      <td>8.697000e-07</td>\n",
       "      <td>0.208469</td>\n",
       "      <td>0.242262</td>\n",
       "      <td>95.978</td>\n",
       "      <td>0.515021</td>\n",
       "    </tr>\n",
       "    <tr>\n",
       "      <th>4488</th>\n",
       "      <td>32501</td>\n",
       "      <td>Hip-Hop</td>\n",
       "      <td>0.889091</td>\n",
       "      <td>0.566274</td>\n",
       "      <td>0.317302</td>\n",
       "      <td>4.010000e-08</td>\n",
       "      <td>0.082946</td>\n",
       "      <td>0.603448</td>\n",
       "      <td>86.941</td>\n",
       "      <td>0.809695</td>\n",
       "    </tr>\n",
       "    <tr>\n",
       "      <th>4762</th>\n",
       "      <td>95908</td>\n",
       "      <td>Hip-Hop</td>\n",
       "      <td>0.313553</td>\n",
       "      <td>0.614370</td>\n",
       "      <td>0.969551</td>\n",
       "      <td>1.438000e-07</td>\n",
       "      <td>0.372578</td>\n",
       "      <td>0.495119</td>\n",
       "      <td>128.855</td>\n",
       "      <td>0.391365</td>\n",
       "    </tr>\n",
       "    <tr>\n",
       "      <th>4610</th>\n",
       "      <td>40527</td>\n",
       "      <td>Hip-Hop</td>\n",
       "      <td>0.419791</td>\n",
       "      <td>0.533791</td>\n",
       "      <td>0.780637</td>\n",
       "      <td>7.860200e-01</td>\n",
       "      <td>0.091891</td>\n",
       "      <td>0.053786</td>\n",
       "      <td>206.063</td>\n",
       "      <td>0.235292</td>\n",
       "    </tr>\n",
       "    <tr>\n",
       "      <th>...</th>\n",
       "      <td>...</td>\n",
       "      <td>...</td>\n",
       "      <td>...</td>\n",
       "      <td>...</td>\n",
       "      <td>...</td>\n",
       "      <td>...</td>\n",
       "      <td>...</td>\n",
       "      <td>...</td>\n",
       "      <td>...</td>\n",
       "      <td>...</td>\n",
       "    </tr>\n",
       "    <tr>\n",
       "      <th>4260</th>\n",
       "      <td>17488</td>\n",
       "      <td>Hip-Hop</td>\n",
       "      <td>0.004697</td>\n",
       "      <td>0.842769</td>\n",
       "      <td>0.226483</td>\n",
       "      <td>8.780805e-01</td>\n",
       "      <td>0.555540</td>\n",
       "      <td>0.045291</td>\n",
       "      <td>89.980</td>\n",
       "      <td>0.774184</td>\n",
       "    </tr>\n",
       "    <tr>\n",
       "      <th>4503</th>\n",
       "      <td>32667</td>\n",
       "      <td>Hip-Hop</td>\n",
       "      <td>0.119265</td>\n",
       "      <td>0.744228</td>\n",
       "      <td>0.929076</td>\n",
       "      <td>9.045006e-01</td>\n",
       "      <td>0.094322</td>\n",
       "      <td>0.594945</td>\n",
       "      <td>224.110</td>\n",
       "      <td>0.057892</td>\n",
       "    </tr>\n",
       "    <tr>\n",
       "      <th>4532</th>\n",
       "      <td>33552</td>\n",
       "      <td>Hip-Hop</td>\n",
       "      <td>0.025787</td>\n",
       "      <td>0.704017</td>\n",
       "      <td>0.461508</td>\n",
       "      <td>1.315000e-07</td>\n",
       "      <td>0.096519</td>\n",
       "      <td>0.090768</td>\n",
       "      <td>89.170</td>\n",
       "      <td>0.533853</td>\n",
       "    </tr>\n",
       "    <tr>\n",
       "      <th>4274</th>\n",
       "      <td>18078</td>\n",
       "      <td>Hip-Hop</td>\n",
       "      <td>0.835353</td>\n",
       "      <td>0.507593</td>\n",
       "      <td>0.740107</td>\n",
       "      <td>8.264280e-05</td>\n",
       "      <td>0.110706</td>\n",
       "      <td>0.255984</td>\n",
       "      <td>84.759</td>\n",
       "      <td>0.690136</td>\n",
       "    </tr>\n",
       "    <tr>\n",
       "      <th>4117</th>\n",
       "      <td>12394</td>\n",
       "      <td>Hip-Hop</td>\n",
       "      <td>0.565059</td>\n",
       "      <td>0.632374</td>\n",
       "      <td>0.336854</td>\n",
       "      <td>2.790170e-01</td>\n",
       "      <td>0.205672</td>\n",
       "      <td>0.048086</td>\n",
       "      <td>87.989</td>\n",
       "      <td>0.035885</td>\n",
       "    </tr>\n",
       "  </tbody>\n",
       "</table>\n",
       "<p>900 rows × 10 columns</p>\n",
       "</div>"
      ],
      "text/plain": [
       "      track_id genre_top  acousticness  danceability    energy  \\\n",
       "4034     11817   Hip-Hop      0.799497      0.707462  0.723358   \n",
       "4775    100477   Hip-Hop      0.297228      0.851686  0.838881   \n",
       "4488     32501   Hip-Hop      0.889091      0.566274  0.317302   \n",
       "4762     95908   Hip-Hop      0.313553      0.614370  0.969551   \n",
       "4610     40527   Hip-Hop      0.419791      0.533791  0.780637   \n",
       "...        ...       ...           ...           ...       ...   \n",
       "4260     17488   Hip-Hop      0.004697      0.842769  0.226483   \n",
       "4503     32667   Hip-Hop      0.119265      0.744228  0.929076   \n",
       "4532     33552   Hip-Hop      0.025787      0.704017  0.461508   \n",
       "4274     18078   Hip-Hop      0.835353      0.507593  0.740107   \n",
       "4117     12394   Hip-Hop      0.565059      0.632374  0.336854   \n",
       "\n",
       "      instrumentalness  liveness  speechiness    tempo   valence  \n",
       "4034      2.764246e-03  0.120899     0.269872   67.308  0.412247  \n",
       "4775      8.697000e-07  0.208469     0.242262   95.978  0.515021  \n",
       "4488      4.010000e-08  0.082946     0.603448   86.941  0.809695  \n",
       "4762      1.438000e-07  0.372578     0.495119  128.855  0.391365  \n",
       "4610      7.860200e-01  0.091891     0.053786  206.063  0.235292  \n",
       "...                ...       ...          ...      ...       ...  \n",
       "4260      8.780805e-01  0.555540     0.045291   89.980  0.774184  \n",
       "4503      9.045006e-01  0.094322     0.594945  224.110  0.057892  \n",
       "4532      1.315000e-07  0.096519     0.090768   89.170  0.533853  \n",
       "4274      8.264280e-05  0.110706     0.255984   84.759  0.690136  \n",
       "4117      2.790170e-01  0.205672     0.048086   87.989  0.035885  \n",
       "\n",
       "[900 rows x 10 columns]"
      ]
     },
     "execution_count": 32,
     "metadata": {},
     "output_type": "execute_result"
    }
   ],
   "source": [
    "hop.sample(n=900)"
   ]
  },
  {
   "cell_type": "code",
   "execution_count": 33,
   "metadata": {},
   "outputs": [],
   "source": [
    "sampled_data_set = pd.concat([rock.sample(n=900), hop.sample(n=900)], axis=0)"
   ]
  },
  {
   "cell_type": "code",
   "execution_count": 34,
   "metadata": {},
   "outputs": [
    {
     "data": {
      "text/plain": [
       "Rock       900\n",
       "Hip-Hop    900\n",
       "Name: genre_top, dtype: int64"
      ]
     },
     "execution_count": 34,
     "metadata": {},
     "output_type": "execute_result"
    }
   ],
   "source": [
    "sampled_data_set.genre_top.value_counts()"
   ]
  },
  {
   "cell_type": "markdown",
   "metadata": {},
   "source": [
    "# Does balancing our dataset improve model bias?\n"
   ]
  },
  {
   "cell_type": "code",
   "execution_count": 35,
   "metadata": {},
   "outputs": [],
   "source": [
    "scaler_new = StandardScaler()\n",
    "X_new = sampled_data_set.drop(['track_id', 'genre_top'], axis=1)\n",
    "y_new = sampled_data_set.genre_top"
   ]
  },
  {
   "cell_type": "code",
   "execution_count": 36,
   "metadata": {},
   "outputs": [],
   "source": [
    "X_new_scaled = scaler_new.fit_transform(X_new)"
   ]
  },
  {
   "cell_type": "code",
   "execution_count": 37,
   "metadata": {},
   "outputs": [],
   "source": [
    "pca_new = PCA(choosen_n, random_state=42)"
   ]
  },
  {
   "cell_type": "code",
   "execution_count": 38,
   "metadata": {},
   "outputs": [
    {
     "data": {
      "text/plain": [
       "PCA(n_components=6, random_state=42)"
      ]
     },
     "execution_count": 38,
     "metadata": {},
     "output_type": "execute_result"
    }
   ],
   "source": [
    "pca_new.fit(X_new_scaled)"
   ]
  },
  {
   "cell_type": "code",
   "execution_count": 39,
   "metadata": {},
   "outputs": [],
   "source": [
    "pca_projected_new = pca_new.fit_transform(X_new_scaled)"
   ]
  },
  {
   "cell_type": "code",
   "execution_count": 40,
   "metadata": {},
   "outputs": [
    {
     "data": {
      "text/plain": [
       "(1800, 6)"
      ]
     },
     "execution_count": 40,
     "metadata": {},
     "output_type": "execute_result"
    }
   ],
   "source": [
    "pca_projected_new.shape"
   ]
  },
  {
   "cell_type": "code",
   "execution_count": 41,
   "metadata": {},
   "outputs": [
    {
     "data": {
      "text/plain": [
       "(1800,)"
      ]
     },
     "execution_count": 41,
     "metadata": {},
     "output_type": "execute_result"
    }
   ],
   "source": [
    "y_new.shape"
   ]
  },
  {
   "cell_type": "code",
   "execution_count": 42,
   "metadata": {},
   "outputs": [],
   "source": [
    "X_train_new, X_test_new, y_train_new, y_test_new = train_test_split(pca_projected_new, y_new, stratify=y_new)"
   ]
  },
  {
   "cell_type": "code",
   "execution_count": 43,
   "metadata": {},
   "outputs": [
    {
     "data": {
      "text/plain": [
       "((1350, 6), (450, 6), (1350,), (450,))"
      ]
     },
     "execution_count": 43,
     "metadata": {},
     "output_type": "execute_result"
    }
   ],
   "source": [
    "X_train_new.shape, X_test_new.shape, y_train_new.shape, y_test_new.shape"
   ]
  },
  {
   "cell_type": "code",
   "execution_count": 44,
   "metadata": {},
   "outputs": [],
   "source": [
    "tree_new = DecisionTreeClassifier(random_state=42)\n",
    "log_reg_new = LogisticRegression(random_state=42)"
   ]
  },
  {
   "cell_type": "code",
   "execution_count": 45,
   "metadata": {},
   "outputs": [
    {
     "data": {
      "text/plain": [
       "LogisticRegression(random_state=42)"
      ]
     },
     "execution_count": 45,
     "metadata": {},
     "output_type": "execute_result"
    }
   ],
   "source": [
    "tree_new.fit(X_train_new, y_train_new)\n",
    "log_reg_new.fit(X_train_new, y_train_new)"
   ]
  },
  {
   "cell_type": "code",
   "execution_count": 46,
   "metadata": {},
   "outputs": [],
   "source": [
    "y_pred_tree_new = tree_new.predict(X_test_new)\n",
    "y_pred_log_new = log_reg_new.predict(X_test_new)"
   ]
  },
  {
   "cell_type": "code",
   "execution_count": 47,
   "metadata": {},
   "outputs": [
    {
     "name": "stdout",
     "output_type": "stream",
     "text": [
      "Tree accuracy:  0.7577777777777778\n"
     ]
    }
   ],
   "source": [
    "print('Tree accuracy: ', accuracy_score(y_true=y_test_new, y_pred=y_pred_tree_new))"
   ]
  },
  {
   "cell_type": "code",
   "execution_count": 48,
   "metadata": {},
   "outputs": [
    {
     "name": "stdout",
     "output_type": "stream",
     "text": [
      "Logistics Regression accuracy:  0.7933333333333333\n"
     ]
    }
   ],
   "source": [
    "print('Logistics Regression accuracy: ', accuracy_score(y_true=y_test_new, y_pred=y_pred_log_new))"
   ]
  },
  {
   "cell_type": "code",
   "execution_count": 49,
   "metadata": {},
   "outputs": [
    {
     "name": "stdout",
     "output_type": "stream",
     "text": [
      "Decision Tree: \n",
      "               precision    recall  f1-score   support\n",
      "\n",
      "     Hip-Hop       0.76      0.76      0.76       225\n",
      "        Rock       0.76      0.76      0.76       225\n",
      "\n",
      "    accuracy                           0.76       450\n",
      "   macro avg       0.76      0.76      0.76       450\n",
      "weighted avg       0.76      0.76      0.76       450\n",
      "\n",
      "Logistic Regression: \n",
      "               precision    recall  f1-score   support\n",
      "\n",
      "     Hip-Hop       0.78      0.83      0.80       225\n",
      "        Rock       0.81      0.76      0.79       225\n",
      "\n",
      "    accuracy                           0.79       450\n",
      "   macro avg       0.79      0.79      0.79       450\n",
      "weighted avg       0.79      0.79      0.79       450\n",
      "\n"
     ]
    }
   ],
   "source": [
    "print(\"Decision Tree: \\n\", classification_report(y_true=y_test_new, y_pred=y_pred_tree_new))\n",
    "print(\"Logistic Regression: \\n\", classification_report(y_true=y_test_new, y_pred=y_pred_log_new))"
   ]
  },
  {
   "cell_type": "markdown",
   "metadata": {},
   "source": [
    "# Using cross-validation to evaluate our models\n"
   ]
  },
  {
   "cell_type": "code",
   "execution_count": 50,
   "metadata": {},
   "outputs": [],
   "source": [
    "kf = KFold(n_splits=30, random_state=42, shuffle=True)"
   ]
  },
  {
   "cell_type": "code",
   "execution_count": 51,
   "metadata": {},
   "outputs": [],
   "source": [
    "tree_kf = DecisionTreeClassifier(random_state=42)\n",
    "log_reg_kf = LogisticRegression(random_state=42)"
   ]
  },
  {
   "cell_type": "code",
   "execution_count": 52,
   "metadata": {},
   "outputs": [
    {
     "name": "stdout",
     "output_type": "stream",
     "text": [
      "Decision Tree: 0.8602562111801241 Logistic Regression: 0.8775478778467909\n"
     ]
    }
   ],
   "source": [
    "tree_score = cross_val_score(tree_kf, pca_projected, y, cv = kf)\n",
    "log_reg_score = cross_val_score(log_reg_kf, pca_projected, y, cv = kf)\n",
    "\n",
    "print(\"Decision Tree:\", np.mean(tree_score), \"Logistic Regression:\", np.mean(log_reg_score))"
   ]
  },
  {
   "cell_type": "markdown",
   "metadata": {},
   "source": [
    "# Without PCA"
   ]
  },
  {
   "cell_type": "code",
   "execution_count": 71,
   "metadata": {},
   "outputs": [],
   "source": [
    "log_reg = LogisticRegression(random_state=42)"
   ]
  },
  {
   "cell_type": "code",
   "execution_count": 72,
   "metadata": {},
   "outputs": [
    {
     "data": {
      "text/plain": [
       "LogisticRegression(random_state=42)"
      ]
     },
     "execution_count": 72,
     "metadata": {},
     "output_type": "execute_result"
    }
   ],
   "source": [
    "log_reg.fit(X_train, y_train)"
   ]
  },
  {
   "cell_type": "code",
   "execution_count": 74,
   "metadata": {},
   "outputs": [],
   "source": [
    "y_pred_simple = log_reg.predict(X_test)"
   ]
  },
  {
   "cell_type": "code",
   "execution_count": 75,
   "metadata": {},
   "outputs": [
    {
     "data": {
      "text/plain": [
       "0.8884263114071607"
      ]
     },
     "execution_count": 75,
     "metadata": {},
     "output_type": "execute_result"
    }
   ],
   "source": [
    "accuracy_score(y_pred=y_pred_simple, y_true=y_test)"
   ]
  },
  {
   "cell_type": "code",
   "execution_count": 76,
   "metadata": {},
   "outputs": [
    {
     "data": {
      "text/plain": [
       "array([[124, 104],\n",
       "       [ 30, 943]], dtype=int64)"
      ]
     },
     "execution_count": 76,
     "metadata": {},
     "output_type": "execute_result"
    }
   ],
   "source": [
    "confusion_matrix(y_pred=y_pred_simple, y_true=y_test)"
   ]
  },
  {
   "cell_type": "code",
   "execution_count": 77,
   "metadata": {},
   "outputs": [
    {
     "name": "stdout",
     "output_type": "stream",
     "text": [
      "              precision    recall  f1-score   support\n",
      "\n",
      "     Hip-Hop       0.81      0.54      0.65       228\n",
      "        Rock       0.90      0.97      0.93       973\n",
      "\n",
      "    accuracy                           0.89      1201\n",
      "   macro avg       0.85      0.76      0.79      1201\n",
      "weighted avg       0.88      0.89      0.88      1201\n",
      "\n"
     ]
    }
   ],
   "source": [
    "print(classification_report(y_pred=y_pred_simple, y_true=y_test))"
   ]
  },
  {
   "cell_type": "code",
   "execution_count": 80,
   "metadata": {},
   "outputs": [],
   "source": [
    "Pkl_Filename = \"model.pkl\"  \n",
    "\n",
    "with open(Pkl_Filename, 'wb') as file:  \n",
    "    pickle.dump(log_reg, file)"
   ]
  },
  {
   "cell_type": "code",
   "execution_count": null,
   "metadata": {},
   "outputs": [],
   "source": []
  }
 ],
 "metadata": {
  "kernelspec": {
   "display_name": "Python 3",
   "language": "python",
   "name": "python3"
  },
  "language_info": {
   "codemirror_mode": {
    "name": "ipython",
    "version": 3
   },
   "file_extension": ".py",
   "mimetype": "text/x-python",
   "name": "python",
   "nbconvert_exporter": "python",
   "pygments_lexer": "ipython3",
   "version": "3.7.6"
  }
 },
 "nbformat": 4,
 "nbformat_minor": 4
}
